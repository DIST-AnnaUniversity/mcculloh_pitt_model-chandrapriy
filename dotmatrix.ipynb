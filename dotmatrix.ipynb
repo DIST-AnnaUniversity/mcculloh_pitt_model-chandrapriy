{
 "cells": [
  {
   "cell_type": "code",
   "execution_count": 1,
   "id": "042f2a60",
   "metadata": {},
   "outputs": [
    {
     "name": "stdout",
     "output_type": "stream",
     "text": [
      "[[11  1 10]\n",
      " [ 8  0  9]\n",
      " [ 6  5  5]]\n"
     ]
    }
   ],
   "source": [
    "import numpy as np\n",
    "A = np.array([[2,4,6], [5,-6,7],[3,2,1]])\n",
    "B = np.array([[9,-3,4], [3,6,2],[3,3,4]])\n",
    "C = A + B \n",
    "print(C)"
   ]
  },
  {
   "cell_type": "markdown",
   "id": "ba5346fa",
   "metadata": {},
   "source": [
    "# Maxtrix subtraction\n"
   ]
  },
  {
   "cell_type": "code",
   "execution_count": 4,
   "id": "008c5d6c",
   "metadata": {},
   "outputs": [
    {
     "name": "stdout",
     "output_type": "stream",
     "text": [
      "[[  6   7   2]\n",
      " [  2 -10   5]\n",
      " [  2  -1  -3]]\n"
     ]
    }
   ],
   "source": [
    "import numpy as np\n",
    "A = np.array([[9,4,6], [5,-6,7],[3,2,1]])\n",
    "B = np.array([[3,-3,4], [3,4,2],[1,3,4]])\n",
    "C = A - B     \n",
    "print(C)"
   ]
  },
  {
   "cell_type": "markdown",
   "id": "75fb606e",
   "metadata": {},
   "source": [
    "# Matrix multiplication\n"
   ]
  },
  {
   "cell_type": "code",
   "execution_count": 5,
   "id": "44627e06",
   "metadata": {},
   "outputs": [
    {
     "name": "stdout",
     "output_type": "stream",
     "text": [
      "[[ 18 -12  24]\n",
      " [ 15 -36  14]\n",
      " [  9   6   4]]\n"
     ]
    }
   ],
   "source": [
    "import numpy as np\n",
    "A = np.array([[2,4,6], [5,-6,7],[3,2,1]])\n",
    "B = np.array([[9,-3,4], [3,6,2],[3,3,4]])\n",
    "C = A * B     \n",
    "print(C)"
   ]
  },
  {
   "cell_type": "raw",
   "id": "530af8fa",
   "metadata": {},
   "source": []
  },
  {
   "cell_type": "markdown",
   "id": "4af7f207",
   "metadata": {},
   "source": []
  }
 ],
 "metadata": {
  "kernelspec": {
   "display_name": "Python 3 (ipykernel)",
   "language": "python",
   "name": "python3"
  },
  "language_info": {
   "codemirror_mode": {
    "name": "ipython",
    "version": 3
   },
   "file_extension": ".py",
   "mimetype": "text/x-python",
   "name": "python",
   "nbconvert_exporter": "python",
   "pygments_lexer": "ipython3",
   "version": "3.9.12"
  }
 },
 "nbformat": 4,
 "nbformat_minor": 5
}
